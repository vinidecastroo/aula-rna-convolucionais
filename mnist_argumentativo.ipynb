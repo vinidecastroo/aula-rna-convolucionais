{
 "metadata": {
  "language_info": {
   "codemirror_mode": {
    "name": "ipython",
    "version": 3
   },
   "file_extension": ".py",
   "mimetype": "text/x-python",
   "name": "python",
   "nbconvert_exporter": "python",
   "pygments_lexer": "ipython3",
   "version": 3
  },
  "orig_nbformat": 2
 },
 "nbformat": 4,
 "nbformat_minor": 2,
 "cells": [
  {
   "cell_type": "code",
   "execution_count": null,
   "metadata": {},
   "outputs": [],
   "source": [
    "from tensorflow.keras.datasets import mnist # atualizado: tensorflow==2.0.0-beta1\n",
    "from tensorflow.keras.models import Sequential # atualizado: tensorflow==2.0.0-beta1\n",
    "from tensorflow.keras.layers import Dense, Flatten, Conv2D, MaxPooling2D # atualizado: tensorflow==2.0.0-beta1\n",
    "from tensorflow.python.keras.utils import np_utils # atualizado: tensorflow==2.0.0-beta1\n",
    "from tensorflow.keras.preprocessing.image import ImageDataGenerator # atualizado: tensorflow==2.0.0-beta1\n",
    "\n",
    "(X_treinamento, y_treinamento), (X_teste, y_teste) = mnist.load_data()\n",
    "previsores_treinamento = X_treinamento.reshape(X_treinamento.shape[0],\n",
    "                                               28, 28, 1)\n",
    "previsores_teste = X_teste.reshape(X_teste.shape[0], 28, 28, 1)\n",
    "previsores_treinamento = previsores_treinamento.astype('float32')\n",
    "previsores_teste = previsores_teste.astype('float32')\n",
    "previsores_treinamento /= 255\n",
    "previsores_teste /= 255\n",
    "classe_treinamento = np_utils.to_categorical(y_treinamento, 10)\n",
    "classe_teste = np_utils.to_categorical(y_teste, 10)\n",
    "\n",
    "classificador = Sequential()\n",
    "classificador.add(Conv2D(32, (3,3), input_shape=(28, 28, 1), activation = 'relu'))\n",
    "classificador.add(MaxPooling2D(pool_size = (2,2)))\n",
    "classificador.add(Flatten())\n",
    "\n",
    "classificador.add(Dense(units = 128, activation = 'relu'))\n",
    "classificador.add(Dense(units = 10, activation = 'softmax'))\n",
    "classificador.compile(loss = 'categorical_crossentropy',\n",
    "                      optimizer = 'adam', metrics = ['accuracy'])\n",
    "\n",
    "gerador_treinamento = ImageDataGenerator(rotation_range = 7,\n",
    "                                         horizontal_flip = True,\n",
    "                                         shear_range = 0.2,\n",
    "                                         height_shift_range = 0.07,\n",
    "                                         zoom_range = 0.2)\n",
    "gerador_teste = ImageDataGenerator()\n",
    "\n",
    "base_treinamento = gerador_treinamento.flow(previsores_treinamento,\n",
    "                                            classe_treinamento, batch_size = 128)\n",
    "base_teste = gerador_teste.flow(previsores_teste, classe_teste, batch_size = 128)\n",
    "\n",
    "classificador.fit_generator(base_treinamento, steps_per_epoch = 600000 / 128,\n",
    "                            epochs = 5, validation_data = base_teste,\n",
    "                            validation_steps = 10000 / 128)"
   ]
  }
 ]
}