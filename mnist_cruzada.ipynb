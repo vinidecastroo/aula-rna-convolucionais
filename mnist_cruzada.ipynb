{
 "metadata": {
  "language_info": {
   "codemirror_mode": {
    "name": "ipython",
    "version": 3
   },
   "file_extension": ".py",
   "mimetype": "text/x-python",
   "name": "python",
   "nbconvert_exporter": "python",
   "pygments_lexer": "ipython3",
   "version": "3.8.3-final"
  },
  "orig_nbformat": 2,
  "kernelspec": {
   "name": "python_defaultSpec_1600794183722",
   "display_name": "Python 3.8.3 64-bit ('base': conda)"
  }
 },
 "nbformat": 4,
 "nbformat_minor": 2,
 "cells": [
  {
   "cell_type": "code",
   "execution_count": 7,
   "metadata": {
    "tags": []
   },
   "outputs": [],
   "source": [
    "from tensorflow.keras.datasets import mnist \n",
    "from tensorflow.keras.models import Sequential \n",
    "from tensorflow.keras.layers import Dense, Flatten, Conv2D, MaxPooling2D \n",
    "from tensorflow.python.keras.utils import np_utils \n",
    "import numpy as np\n",
    "from sklearn.model_selection import StratifiedKFold\n",
    "seed = 5\n",
    "np.random.seed(seed)\n",
    "(X, y), (X_teste, y_teste) = mnist.load_data()\n",
    "previsores = X.reshape(X.shape[0], 28, 28, 1)\n",
    "previsores = previsores.astype('float32')\n",
    "previsores /= 255\n",
    "classe = np_utils.to_categorical(y , 10)\n",
    "kfold = StratifiedKFold(n_splits = 5, shuffle = True, random_state = seed)\n",
    "resultados = []"
   ]
  },
  {
   "cell_type": "code",
   "execution_count": 8,
   "metadata": {
    "tags": []
   },
   "outputs": [
    {
     "output_type": "stream",
     "name": "stdout",
     "text": "Epoch 1/5\n375/375 [==============================] - 17s 45ms/step - loss: 0.2467 - accuracy: 0.9288\nEpoch 2/5\n375/375 [==============================] - 17s 45ms/step - loss: 0.0732 - accuracy: 0.9788\nEpoch 3/5\n375/375 [==============================] - 16s 43ms/step - loss: 0.0491 - accuracy: 0.9853\nEpoch 4/5\n375/375 [==============================] - 17s 45ms/step - loss: 0.0352 - accuracy: 0.9893\nEpoch 5/5\n375/375 [==============================] - 16s 43ms/step - loss: 0.0275 - accuracy: 0.9914\n375/375 [==============================] - 2s 5ms/step - loss: 0.0608 - accuracy: 0.9822\nEpoch 1/5\n375/375 [==============================] - 16s 44ms/step - loss: 0.2533 - accuracy: 0.9255\nEpoch 2/5\n375/375 [==============================] - 16s 44ms/step - loss: 0.0789 - accuracy: 0.9772\nEpoch 3/5\n375/375 [==============================] - 17s 45ms/step - loss: 0.0510 - accuracy: 0.9846\nEpoch 4/5\n375/375 [==============================] - 18s 47ms/step - loss: 0.0387 - accuracy: 0.9886\nEpoch 5/5\n375/375 [==============================] - 17s 44ms/step - loss: 0.0293 - accuracy: 0.9912\n375/375 [==============================] - 2s 5ms/step - loss: 0.0538 - accuracy: 0.9839\nEpoch 1/5\n375/375 [==============================] - 16s 44ms/step - loss: 0.2554 - accuracy: 0.9263\nEpoch 2/5\n375/375 [==============================] - 17s 46ms/step - loss: 0.0768 - accuracy: 0.9776\nEpoch 3/5\n375/375 [==============================] - 16s 43ms/step - loss: 0.0499 - accuracy: 0.9854\nEpoch 4/5\n375/375 [==============================] - 16s 43ms/step - loss: 0.0374 - accuracy: 0.9885\nEpoch 5/5\n375/375 [==============================] - 16s 43ms/step - loss: 0.0279 - accuracy: 0.9918\n375/375 [==============================] - 2s 5ms/step - loss: 0.0461 - accuracy: 0.9865\nEpoch 1/5\n375/375 [==============================] - 17s 46ms/step - loss: 0.2542 - accuracy: 0.9280\nEpoch 2/5\n375/375 [==============================] - 20s 53ms/step - loss: 0.0837 - accuracy: 0.9758\nEpoch 3/5\n375/375 [==============================] - 21s 55ms/step - loss: 0.0555 - accuracy: 0.9836\nEpoch 4/5\n375/375 [==============================] - 17s 46ms/step - loss: 0.0400 - accuracy: 0.9882\nEpoch 5/5\n375/375 [==============================] - 18s 49ms/step - loss: 0.0309 - accuracy: 0.9908\n375/375 [==============================] - 2s 5ms/step - loss: 0.0567 - accuracy: 0.9825\nEpoch 1/5\n375/375 [==============================] - 18s 47ms/step - loss: 0.2484 - accuracy: 0.9285\nEpoch 2/5\n375/375 [==============================] - 18s 49ms/step - loss: 0.0767 - accuracy: 0.9776\nEpoch 3/5\n375/375 [==============================] - 19s 51ms/step - loss: 0.0529 - accuracy: 0.9842\nEpoch 4/5\n375/375 [==============================] - 26s 70ms/step - loss: 0.0375 - accuracy: 0.9893\nEpoch 5/5\n375/375 [==============================] - 20s 53ms/step - loss: 0.0279 - accuracy: 0.9918\n375/375 [==============================] - 2s 5ms/step - loss: 0.0574 - accuracy: 0.9833\n"
    }
   ],
   "source": [
    "a = np.zeros(5)\n",
    "b = np.zeros(shape = (classe.shape[0], 1))\n",
    "for indice_treinamento, indice_teste in kfold.split(previsores, \n",
    "                                                    np.zeros(shape = (classe.shape[0], 1))):\n",
    "    #print('Índices treinamento: ', indice_treinamento, 'Índice teste', indice_teste)\n",
    "    classificador = Sequential()\n",
    "    classificador.add(Conv2D(32, (3,3), input_shape=(28,28,1), activation = 'relu'))\n",
    "    classificador.add(MaxPooling2D(pool_size = (2,2)))\n",
    "    classificador.add(Flatten())\n",
    "    classificador.add(Dense(units = 128, activation = 'relu'))\n",
    "    classificador.add(Dense(units = 10, activation = 'softmax'))\n",
    "    classificador.compile(loss = 'categorical_crossentropy', optimizer = 'adam',\n",
    "                          metrics = ['accuracy'])\n",
    "    classificador.fit(previsores[indice_treinamento], classe[indice_treinamento],\n",
    "                      batch_size = 128, epochs = 5)\n",
    "    precisao = classificador.evaluate(previsores[indice_teste], classe[indice_teste])\n",
    "    resultados.append(precisao[1])\n",
    "\n",
    "media = sum(resultados) / len(resultados)"
   ]
  }
 ]
}